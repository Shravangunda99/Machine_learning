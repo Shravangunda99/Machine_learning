{
 "cells": [
  {
   "cell_type": "code",
   "execution_count": 1,
   "id": "3169341f",
   "metadata": {},
   "outputs": [],
   "source": [
    "import numpy as np\n",
    "import pandas as pd"
   ]
  },
  {
   "cell_type": "code",
   "execution_count": 2,
   "id": "154ce2c6",
   "metadata": {},
   "outputs": [],
   "source": [
    "X=[1,2,3,4,5,6,7] #or [i for i in range(1,8)]\n",
    "Y=[1.5, 3.8, 6.7, 9.0, 11.2, 13.6, 16]"
   ]
  },
  {
   "cell_type": "code",
   "execution_count": 3,
   "id": "a55f9550",
   "metadata": {},
   "outputs": [],
   "source": [
    "data=pd.DataFrame(data={\n",
    "    \"x\":X,\"y\":Y\n",
    "})"
   ]
  },
  {
   "cell_type": "code",
   "execution_count": 4,
   "id": "30d53781",
   "metadata": {},
   "outputs": [],
   "source": [
    "#data #we added XY and X**2\n",
    "data['xy']= data['x'] * data['y']\n",
    "data['x**2']=data['x']**2"
   ]
  },
  {
   "cell_type": "code",
   "execution_count": 5,
   "id": "12d41744",
   "metadata": {},
   "outputs": [
    {
     "data": {
      "text/html": [
       "<div>\n",
       "<style scoped>\n",
       "    .dataframe tbody tr th:only-of-type {\n",
       "        vertical-align: middle;\n",
       "    }\n",
       "\n",
       "    .dataframe tbody tr th {\n",
       "        vertical-align: top;\n",
       "    }\n",
       "\n",
       "    .dataframe thead th {\n",
       "        text-align: right;\n",
       "    }\n",
       "</style>\n",
       "<table border=\"1\" class=\"dataframe\">\n",
       "  <thead>\n",
       "    <tr style=\"text-align: right;\">\n",
       "      <th></th>\n",
       "      <th>x</th>\n",
       "      <th>y</th>\n",
       "      <th>xy</th>\n",
       "      <th>x**2</th>\n",
       "    </tr>\n",
       "  </thead>\n",
       "  <tbody>\n",
       "    <tr>\n",
       "      <th>0</th>\n",
       "      <td>1</td>\n",
       "      <td>1.5</td>\n",
       "      <td>1.5</td>\n",
       "      <td>1</td>\n",
       "    </tr>\n",
       "    <tr>\n",
       "      <th>1</th>\n",
       "      <td>2</td>\n",
       "      <td>3.8</td>\n",
       "      <td>7.6</td>\n",
       "      <td>4</td>\n",
       "    </tr>\n",
       "    <tr>\n",
       "      <th>2</th>\n",
       "      <td>3</td>\n",
       "      <td>6.7</td>\n",
       "      <td>20.1</td>\n",
       "      <td>9</td>\n",
       "    </tr>\n",
       "    <tr>\n",
       "      <th>3</th>\n",
       "      <td>4</td>\n",
       "      <td>9.0</td>\n",
       "      <td>36.0</td>\n",
       "      <td>16</td>\n",
       "    </tr>\n",
       "    <tr>\n",
       "      <th>4</th>\n",
       "      <td>5</td>\n",
       "      <td>11.2</td>\n",
       "      <td>56.0</td>\n",
       "      <td>25</td>\n",
       "    </tr>\n",
       "    <tr>\n",
       "      <th>5</th>\n",
       "      <td>6</td>\n",
       "      <td>13.6</td>\n",
       "      <td>81.6</td>\n",
       "      <td>36</td>\n",
       "    </tr>\n",
       "    <tr>\n",
       "      <th>6</th>\n",
       "      <td>7</td>\n",
       "      <td>16.0</td>\n",
       "      <td>112.0</td>\n",
       "      <td>49</td>\n",
       "    </tr>\n",
       "  </tbody>\n",
       "</table>\n",
       "</div>"
      ],
      "text/plain": [
       "   x     y     xy  x**2\n",
       "0  1   1.5    1.5     1\n",
       "1  2   3.8    7.6     4\n",
       "2  3   6.7   20.1     9\n",
       "3  4   9.0   36.0    16\n",
       "4  5  11.2   56.0    25\n",
       "5  6  13.6   81.6    36\n",
       "6  7  16.0  112.0    49"
      ]
     },
     "execution_count": 5,
     "metadata": {},
     "output_type": "execute_result"
    }
   ],
   "source": [
    "data"
   ]
  },
  {
   "cell_type": "code",
   "execution_count": 6,
   "id": "979e2b69",
   "metadata": {},
   "outputs": [],
   "source": [
    "sum_x=data['x'].sum()\n",
    "sum_y=data['y'].sum()\n",
    "sum_xy=data['xy'].sum()\n",
    "sum_x_2=data['x**2'].sum()"
   ]
  },
  {
   "cell_type": "code",
   "execution_count": 7,
   "id": "8f00dff4",
   "metadata": {},
   "outputs": [
    {
     "data": {
      "text/plain": [
       "(28, 61.800000000000004, 314.8, 140, 7)"
      ]
     },
     "execution_count": 7,
     "metadata": {},
     "output_type": "execute_result"
    }
   ],
   "source": [
    "n=len(data)\n",
    "\n",
    "sum_x,sum_y,sum_xy,sum_x_2,n"
   ]
  },
  {
   "cell_type": "markdown",
   "id": "1078ff93",
   "metadata": {},
   "source": [
    "$$ Y=mX + b $$"
   ]
  },
  {
   "cell_type": "markdown",
   "id": "88c6ced8",
   "metadata": {},
   "source": [
    "m=? and b=?"
   ]
  },
  {
   "cell_type": "markdown",
   "id": "2aadf967",
   "metadata": {},
   "source": [
    "$$m=\\frac{n\\sum xy - \\sum x\\sum y}{n\\sum x^{2}-(\\sum x)^{2}}$$"
   ]
  },
  {
   "cell_type": "code",
   "execution_count": 8,
   "id": "3ad418a9",
   "metadata": {},
   "outputs": [],
   "source": [
    "numerator_m=(n*sum_xy)-(sum_x*sum_y)\n",
    "denominator_m=(n*sum_x_2)-sum_x**2"
   ]
  },
  {
   "cell_type": "code",
   "execution_count": 9,
   "id": "6c656972",
   "metadata": {},
   "outputs": [],
   "source": [
    "m=numerator_m/denominator_m"
   ]
  },
  {
   "cell_type": "code",
   "execution_count": 10,
   "id": "07d6559e",
   "metadata": {},
   "outputs": [
    {
     "data": {
      "text/plain": [
       "2.4142857142857133"
      ]
     },
     "execution_count": 10,
     "metadata": {},
     "output_type": "execute_result"
    }
   ],
   "source": [
    "m"
   ]
  },
  {
   "cell_type": "code",
   "execution_count": 11,
   "id": "ea3cc992",
   "metadata": {},
   "outputs": [],
   "source": [
    "numerator_b=sum_y-(m*sum_x)\n",
    "denominator_b=n"
   ]
  },
  {
   "cell_type": "markdown",
   "id": "1527b506",
   "metadata": {},
   "source": [
    "$$b=\\frac{\\sum y-m\\sum x}{n}$$"
   ]
  },
  {
   "cell_type": "code",
   "execution_count": 12,
   "id": "12e826dd",
   "metadata": {},
   "outputs": [],
   "source": [
    "b=numerator_b/denominator_b"
   ]
  },
  {
   "cell_type": "code",
   "execution_count": 13,
   "id": "0ee57a0a",
   "metadata": {},
   "outputs": [
    {
     "data": {
      "text/plain": [
       "-0.8285714285714231"
      ]
     },
     "execution_count": 13,
     "metadata": {},
     "output_type": "execute_result"
    }
   ],
   "source": [
    "b"
   ]
  },
  {
   "cell_type": "code",
   "execution_count": 14,
   "id": "feb74303",
   "metadata": {},
   "outputs": [],
   "source": [
    "y=[(m*x)+b for x in data[\"x\"]] #use range(1,10 or 12....n) for future predction"
   ]
  },
  {
   "cell_type": "code",
   "execution_count": 15,
   "id": "900b1127",
   "metadata": {},
   "outputs": [
    {
     "data": {
      "text/plain": [
       "[1.5857142857142903,\n",
       " 4.0000000000000036,\n",
       " 6.414285714285717,\n",
       " 8.82857142857143,\n",
       " 11.242857142857142,\n",
       " 13.657142857142857,\n",
       " 16.07142857142857]"
      ]
     },
     "execution_count": 15,
     "metadata": {},
     "output_type": "execute_result"
    }
   ],
   "source": [
    "y"
   ]
  },
  {
   "cell_type": "code",
   "execution_count": 16,
   "id": "50a589b7",
   "metadata": {},
   "outputs": [
    {
     "data": {
      "text/plain": [
       "0     1.5\n",
       "1     3.8\n",
       "2     6.7\n",
       "3     9.0\n",
       "4    11.2\n",
       "5    13.6\n",
       "6    16.0\n",
       "Name: y, dtype: float64"
      ]
     },
     "execution_count": 16,
     "metadata": {},
     "output_type": "execute_result"
    }
   ],
   "source": [
    "data[\"y\"]"
   ]
  },
  {
   "cell_type": "code",
   "execution_count": 17,
   "id": "b955ea2b",
   "metadata": {},
   "outputs": [],
   "source": [
    "import matplotlib.pyplot as plt"
   ]
  },
  {
   "cell_type": "code",
   "execution_count": 18,
   "id": "2ca5e138",
   "metadata": {},
   "outputs": [
    {
     "data": {
      "text/plain": [
       "<matplotlib.legend.Legend at 0x25658f559d0>"
      ]
     },
     "execution_count": 18,
     "metadata": {},
     "output_type": "execute_result"
    },
    {
     "data": {
      "image/png": "[encoded data removed]",
      "text/plain": [
       "<Figure size 432x288 with 1 Axes>"
      ]
     },
     "metadata": {
      "needs_background": "light"
     },
     "output_type": "display_data"
    }
   ],
   "source": [
    "plt.scatter(data[\"x\"],data[\"y\"], color='blue', label=\"orginal\")\n",
    "#plt.plot(data[\"x\"], y, color='red')\n",
    "plt.scatter(data[\"x\"], y, color='red', label=\"predicted\")\n",
    "plt.legend()"
   ]
  },
  {
   "cell_type": "code",
   "execution_count": null,
   "id": "7d58b809",
   "metadata": {},
   "outputs": [],
   "source": []
  }
 ],
 "metadata": {
  "kernelspec": {
   "display_name": "Python 3 (ipykernel)",
   "language": "python",
   "name": "python3"
  },
  "language_info": {
   "codemirror_mode": {
    "name": "ipython",
    "version": 3
   },
   "file_extension": ".py",
   "mimetype": "text/x-python",
   "name": "python",
   "nbconvert_exporter": "python",
   "pygments_lexer": "ipython3",
   "version": "3.9.12"
  }
 },
 "nbformat": 4,
 "nbformat_minor": 5
}
