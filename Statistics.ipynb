{
 "cells": [
  {
   "cell_type": "code",
   "execution_count": 1,
   "id": "08545298",
   "metadata": {},
   "outputs": [
    {
     "name": "stdout",
     "output_type": "stream",
     "text": [
      "6.1\n"
     ]
    }
   ],
   "source": [
    "#mean\n",
    "\n",
    "#list_data\n",
    "A=[2,2,6,8,6,5,7,10,10,5]\n",
    "\n",
    "#mean=sum of A/length of A\n",
    "\n",
    "sum_of_A=sum(A)\n",
    "Length_of_A=len(A)\n",
    "\n",
    "mean=sum_of_A/Length_of_A\n",
    "\n",
    "print(mean)"
   ]
  },
  {
   "cell_type": "code",
   "execution_count": 16,
   "id": "a24f87a8",
   "metadata": {},
   "outputs": [
    {
     "name": "stdout",
     "output_type": "stream",
     "text": [
      "5\n",
      "median of B 8\n"
     ]
    }
   ],
   "source": [
    "#median\n",
    "\n",
    "#list_data\n",
    "B=[7,5,6,5,8,6,12,15,16]\n",
    "\n",
    "#sorting the data and Length of B\n",
    "B.sort()\n",
    "\n",
    "Length_of_B=len(B)\n",
    "\n",
    "#median:((n + 1) / 2)-1\n",
    "\n",
    "median=int((Length_of_B + 1) / 2)\n",
    "\n",
    "print(median)\n",
    "\n",
    "print(\"median of B\",B[median])"
   ]
  },
  {
   "cell_type": "code",
   "execution_count": null,
   "id": "c39137e0",
   "metadata": {},
   "outputs": [],
   "source": []
  }
 ],
 "metadata": {
  "kernelspec": {
   "display_name": "Python 3 (ipykernel)",
   "language": "python",
   "name": "python3"
  },
  "language_info": {
   "codemirror_mode": {
    "name": "ipython",
    "version": 3
   },
   "file_extension": ".py",
   "mimetype": "text/x-python",
   "name": "python",
   "nbconvert_exporter": "python",
   "pygments_lexer": "ipython3",
   "version": "3.9.12"
  }
 },
 "nbformat": 4,
 "nbformat_minor": 5
}
